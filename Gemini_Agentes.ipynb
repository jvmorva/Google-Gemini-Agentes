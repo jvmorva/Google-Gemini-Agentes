{
  "nbformat": 4,
  "nbformat_minor": 0,
  "metadata": {
    "colab": {
      "provenance": [],
      "include_colab_link": true
    },
    "kernelspec": {
      "name": "python3",
      "display_name": "Python 3"
    },
    "language_info": {
      "name": "python"
    }
  },
  "cells": [
    {
      "cell_type": "markdown",
      "metadata": {
        "id": "view-in-github",
        "colab_type": "text"
      },
      "source": [
        "<a href=\"https://colab.research.google.com/github/jvmorva/Google-Gemini-Agentes/blob/main/Gemini_Agentes.ipynb\" target=\"_parent\"><img src=\"https://colab.research.google.com/assets/colab-badge.svg\" alt=\"Open In Colab\"/></a>"
      ]
    },
    {
      "cell_type": "code",
      "source": [
        "%pip -q install google-genai==1.15.0"
      ],
      "metadata": {
        "id": "UCCbECexLk_h",
        "colab": {
          "base_uri": "https://localhost:8080/"
        },
        "outputId": "16ab287e-0179-4001-e51b-ec2cbee758e2"
      },
      "execution_count": null,
      "outputs": [
        {
          "output_type": "stream",
          "name": "stdout",
          "text": [
            "\u001b[?25l   \u001b[90m━━━━━━━━━━━━━━━━━━━━━━━━━━━━━━━━━━━━━━━━\u001b[0m \u001b[32m0.0/171.3 kB\u001b[0m \u001b[31m?\u001b[0m eta \u001b[36m-:--:--\u001b[0m\r\u001b[2K   \u001b[91m━━━━━━━━━━━━━━━━━━━━━━━━━━━━━━━━━━━━━━\u001b[0m\u001b[90m╺\u001b[0m\u001b[90m━\u001b[0m \u001b[32m163.8/171.3 kB\u001b[0m \u001b[31m7.2 MB/s\u001b[0m eta \u001b[36m0:00:01\u001b[0m\r\u001b[2K   \u001b[90m━━━━━━━━━━━━━━━━━━━━━━━━━━━━━━━━━━━━━━━━\u001b[0m \u001b[32m171.3/171.3 kB\u001b[0m \u001b[31m4.4 MB/s\u001b[0m eta \u001b[36m0:00:00\u001b[0m\n",
            "\u001b[?25h"
          ]
        }
      ]
    },
    {
      "cell_type": "code",
      "source": [
        "# Configura a API Key do Google Gemini\n",
        "\n",
        "import os\n",
        "from google.colab import userdata\n",
        "\n",
        "os.environ[\"GOOGLE_API_KEY\"] = userdata.get('GOOGLE_API_KEY')"
      ],
      "metadata": {
        "id": "NfCqHo1tLk8P"
      },
      "execution_count": null,
      "outputs": []
    },
    {
      "cell_type": "code",
      "source": [
        "# Configura o cliente da SDK do Gemini\n",
        "\n",
        "from google import genai\n",
        "\n",
        "client = genai.Client()\n",
        "\n",
        "MODEL_ID = \"gemini-2.0-flash\""
      ],
      "metadata": {
        "id": "bV4w0H5TLk5g"
      },
      "execution_count": null,
      "outputs": []
    },
    {
      "cell_type": "code",
      "source": [
        "# Pergunta ao Gemini uma informação mais recente que seu conhecimento\n",
        "\n",
        "from IPython.display import HTML, Markdown\n",
        "\n",
        "# Perguntar pro modelo quando é o próximo evento da AWS em Curitiba ###############################################\n",
        "response = client.models.generate_content(\n",
        "    model=MODEL_ID,\n",
        "    contents='Quando é o próximo evento da AWS em Curitiba?',\n",
        ")\n",
        "\n",
        "# Exibe a resposta na tela\n",
        "display(Markdown(f\"Resposta:\\n {response.text}\"))"
      ],
      "metadata": {
        "id": "Y9cBAz02xZt9",
        "colab": {
          "base_uri": "https://localhost:8080/",
          "height": 116
        },
        "outputId": "45f4e736-ef26-4776-9a9c-f3c37107956c"
      },
      "execution_count": null,
      "outputs": [
        {
          "output_type": "display_data",
          "data": {
            "text/plain": [
              "<IPython.core.display.Markdown object>"
            ],
            "text/markdown": "Resposta:\n O próximo evento da AWS em Curitiba é o **AWS Community Day Curitiba 2024**, que acontecerá no dia **22 de junho de 2024**.\n\nVocê pode encontrar mais informações e se inscrever no evento através do seguinte link:\n\n*   [https://www.sympla.com.br/evento/aws-community-day-curitiba-2024/2449029](https://www.sympla.com.br/evento/aws-community-day-curitiba-2024/2449029)\n\nRecomendo verificar o site oficial do evento para obter os detalhes mais recentes, como a programação completa, palestrantes e local."
          },
          "metadata": {}
        }
      ]
    },
    {
      "cell_type": "code",
      "source": [
        "# Pergunta ao Gemini uma informação utilizando a busca do Google como contexto\n",
        "\n",
        "response = client.models.generate_content(\n",
        "    model=MODEL_ID,\n",
        "    contents='Quando é o próximo evento da AWS em Curitiba?',\n",
        "    config={\"tools\": [{\"google_search\": {}}]}\n",
        ")\n",
        "\n",
        "# Exibe a resposta na tela\n",
        "display(Markdown(f\"Resposta:\\n {response.text}\"))"
      ],
      "metadata": {
        "id": "lc2JPA92xbnp",
        "colab": {
          "base_uri": "https://localhost:8080/",
          "height": 81
        },
        "outputId": "6c99a00c-7cdc-4eaa-d2b6-8c2958680c58"
      },
      "execution_count": null,
      "outputs": [
        {
          "output_type": "display_data",
          "data": {
            "text/plain": [
              "<IPython.core.display.Markdown object>"
            ],
            "text/markdown": "Resposta:\n O próximo evento da AWS em Curitiba é o AWS Curitiba User Group, que acontecerá no dia 3 de junho de 2025, às 19:00 BRT, no MadeiraMadeira. O tema do encontro será \"Agentes de AI na Prática\", com a participação de Marcelo Palladino, Senior Developer Advocate da AWS. As vagas são limitadas e é necessário informar o CPF na inscrição para garantir a entrada."
          },
          "metadata": {}
        }
      ]
    },
    {
      "cell_type": "code",
      "source": [
        "# Exibe a busca\n",
        "print(f\"Busca realizada: {response.candidates[0].grounding_metadata.web_search_queries}\")\n",
        "# Exibe as URLs nas quais ele se baseou\n",
        "print(f\"Páginas utilizadas na resposta: {', '.join([site.web.title for site in response.candidates[0].grounding_metadata.grounding_chunks])}\")\n",
        "print()\n",
        "display(HTML(response.candidates[0].grounding_metadata.search_entry_point.rendered_content))"
      ],
      "metadata": {
        "id": "6Cg0KNJGMgC5",
        "colab": {
          "base_uri": "https://localhost:8080/",
          "height": 117
        },
        "outputId": "34ef4e72-95be-47df-defc-2a8bb648841a"
      },
      "execution_count": null,
      "outputs": [
        {
          "output_type": "stream",
          "name": "stdout",
          "text": [
            "Busca realizada: ['eventos aws curitiba', 'próximo evento aws curitiba']\n",
            "Páginas utilizadas na resposta: meetup.com, meetup.com\n",
            "\n"
          ]
        },
        {
          "output_type": "display_data",
          "data": {
            "text/plain": [
              "<IPython.core.display.HTML object>"
            ],
            "text/html": [
              "<style>\n",
              ".container {\n",
              "  align-items: center;\n",
              "  border-radius: 8px;\n",
              "  display: flex;\n",
              "  font-family: Google Sans, Roboto, sans-serif;\n",
              "  font-size: 14px;\n",
              "  line-height: 20px;\n",
              "  padding: 8px 12px;\n",
              "}\n",
              ".chip {\n",
              "  display: inline-block;\n",
              "  border: solid 1px;\n",
              "  border-radius: 16px;\n",
              "  min-width: 14px;\n",
              "  padding: 5px 16px;\n",
              "  text-align: center;\n",
              "  user-select: none;\n",
              "  margin: 0 8px;\n",
              "  -webkit-tap-highlight-color: transparent;\n",
              "}\n",
              ".carousel {\n",
              "  overflow: auto;\n",
              "  scrollbar-width: none;\n",
              "  white-space: nowrap;\n",
              "  margin-right: -12px;\n",
              "}\n",
              ".headline {\n",
              "  display: flex;\n",
              "  margin-right: 4px;\n",
              "}\n",
              ".gradient-container {\n",
              "  position: relative;\n",
              "}\n",
              ".gradient {\n",
              "  position: absolute;\n",
              "  transform: translate(3px, -9px);\n",
              "  height: 36px;\n",
              "  width: 9px;\n",
              "}\n",
              "@media (prefers-color-scheme: light) {\n",
              "  .container {\n",
              "    background-color: #fafafa;\n",
              "    box-shadow: 0 0 0 1px #0000000f;\n",
              "  }\n",
              "  .headline-label {\n",
              "    color: #1f1f1f;\n",
              "  }\n",
              "  .chip {\n",
              "    background-color: #ffffff;\n",
              "    border-color: #d2d2d2;\n",
              "    color: #5e5e5e;\n",
              "    text-decoration: none;\n",
              "  }\n",
              "  .chip:hover {\n",
              "    background-color: #f2f2f2;\n",
              "  }\n",
              "  .chip:focus {\n",
              "    background-color: #f2f2f2;\n",
              "  }\n",
              "  .chip:active {\n",
              "    background-color: #d8d8d8;\n",
              "    border-color: #b6b6b6;\n",
              "  }\n",
              "  .logo-dark {\n",
              "    display: none;\n",
              "  }\n",
              "  .gradient {\n",
              "    background: linear-gradient(90deg, #fafafa 15%, #fafafa00 100%);\n",
              "  }\n",
              "}\n",
              "@media (prefers-color-scheme: dark) {\n",
              "  .container {\n",
              "    background-color: #1f1f1f;\n",
              "    box-shadow: 0 0 0 1px #ffffff26;\n",
              "  }\n",
              "  .headline-label {\n",
              "    color: #fff;\n",
              "  }\n",
              "  .chip {\n",
              "    background-color: #2c2c2c;\n",
              "    border-color: #3c4043;\n",
              "    color: #fff;\n",
              "    text-decoration: none;\n",
              "  }\n",
              "  .chip:hover {\n",
              "    background-color: #353536;\n",
              "  }\n",
              "  .chip:focus {\n",
              "    background-color: #353536;\n",
              "  }\n",
              "  .chip:active {\n",
              "    background-color: #464849;\n",
              "    border-color: #53575b;\n",
              "  }\n",
              "  .logo-light {\n",
              "    display: none;\n",
              "  }\n",
              "  .gradient {\n",
              "    background: linear-gradient(90deg, #1f1f1f 15%, #1f1f1f00 100%);\n",
              "  }\n",
              "}\n",
              "</style>\n",
              "<div class=\"container\">\n",
              "  <div class=\"headline\">\n",
              "    <svg class=\"logo-light\" width=\"18\" height=\"18\" viewBox=\"9 9 35 35\" fill=\"none\" xmlns=\"http://www.w3.org/2000/svg\">\n",
              "      <path fill-rule=\"evenodd\" clip-rule=\"evenodd\" d=\"M42.8622 27.0064C42.8622 25.7839 42.7525 24.6084 42.5487 23.4799H26.3109V30.1568H35.5897C35.1821 32.3041 33.9596 34.1222 32.1258 35.3448V39.6864H37.7213C40.9814 36.677 42.8622 32.2571 42.8622 27.0064V27.0064Z\" fill=\"#4285F4\"/>\n",
              "      <path fill-rule=\"evenodd\" clip-rule=\"evenodd\" d=\"M26.3109 43.8555C30.9659 43.8555 34.8687 42.3195 37.7213 39.6863L32.1258 35.3447C30.5898 36.3792 28.6306 37.0061 26.3109 37.0061C21.8282 37.0061 18.0195 33.9811 16.6559 29.906H10.9194V34.3573C13.7563 39.9841 19.5712 43.8555 26.3109 43.8555V43.8555Z\" fill=\"#34A853\"/>\n",
              "      <path fill-rule=\"evenodd\" clip-rule=\"evenodd\" d=\"M16.6559 29.8904C16.3111 28.8559 16.1074 27.7588 16.1074 26.6146C16.1074 25.4704 16.3111 24.3733 16.6559 23.3388V18.8875H10.9194C9.74388 21.2072 9.06992 23.8247 9.06992 26.6146C9.06992 29.4045 9.74388 32.022 10.9194 34.3417L15.3864 30.8621L16.6559 29.8904V29.8904Z\" fill=\"#FBBC05\"/>\n",
              "      <path fill-rule=\"evenodd\" clip-rule=\"evenodd\" d=\"M26.3109 16.2386C28.85 16.2386 31.107 17.1164 32.9095 18.8091L37.8466 13.8719C34.853 11.082 30.9659 9.3736 26.3109 9.3736C19.5712 9.3736 13.7563 13.245 10.9194 18.8875L16.6559 23.3388C18.0195 19.2636 21.8282 16.2386 26.3109 16.2386V16.2386Z\" fill=\"#EA4335\"/>\n",
              "    </svg>\n",
              "    <svg class=\"logo-dark\" width=\"18\" height=\"18\" viewBox=\"0 0 48 48\" xmlns=\"http://www.w3.org/2000/svg\">\n",
              "      <circle cx=\"24\" cy=\"23\" fill=\"#FFF\" r=\"22\"/>\n",
              "      <path d=\"M33.76 34.26c2.75-2.56 4.49-6.37 4.49-11.26 0-.89-.08-1.84-.29-3H24.01v5.99h8.03c-.4 2.02-1.5 3.56-3.07 4.56v.75l3.91 2.97h.88z\" fill=\"#4285F4\"/>\n",
              "      <path d=\"M15.58 25.77A8.845 8.845 0 0 0 24 31.86c1.92 0 3.62-.46 4.97-1.31l4.79 3.71C31.14 36.7 27.65 38 24 38c-5.93 0-11.01-3.4-13.45-8.36l.17-1.01 4.06-2.85h.8z\" fill=\"#34A853\"/>\n",
              "      <path d=\"M15.59 20.21a8.864 8.864 0 0 0 0 5.58l-5.03 3.86c-.98-2-1.53-4.25-1.53-6.64 0-2.39.55-4.64 1.53-6.64l1-.22 3.81 2.98.22 1.08z\" fill=\"#FBBC05\"/>\n",
              "      <path d=\"M24 14.14c2.11 0 4.02.75 5.52 1.98l4.36-4.36C31.22 9.43 27.81 8 24 8c-5.93 0-11.01 3.4-13.45 8.36l5.03 3.85A8.86 8.86 0 0 1 24 14.14z\" fill=\"#EA4335\"/>\n",
              "    </svg>\n",
              "    <div class=\"gradient-container\"><div class=\"gradient\"></div></div>\n",
              "  </div>\n",
              "  <div class=\"carousel\">\n",
              "    <a class=\"chip\" href=\"https://vertexaisearch.cloud.google.com/grounding-api-redirect/AbF9wXEHHa2g_mTrfWuuzaSQdz1ElbEvGp1fpqTcO3-bEsllGp9G-JZfB2jAzNDCd47adAGNfGzysYwpmFKGaQOcu1U_fcVuiakJk5end6KFPWVg8PWGkevOigVC-qx1XikCddIv5BTy6bIkQb8zkectHSOAiuGzQw2CjhOZPBe1Xehh8ltSNRxUYWt_Ps343hsig8sCN2WVfaw=\">eventos aws curitiba</a>\n",
              "    <a class=\"chip\" href=\"https://vertexaisearch.cloud.google.com/grounding-api-redirect/AbF9wXFkhs1y5s2hekP1fQ1okV7Pbp9yGJrlRznf27XRI-lVGu7ITPVuEEwKAyzaotUDG7OIMOfvcH9mljH0X4HsCH1dr-XUOSJEBs2AhJoiJ_0R0auDydlSKCN8Gnkl7lusUPGFXwDdgxenhggBbUejfNPGgQ9XlZkYBTe_fnWef8an0tlrlPert-hcSla04l-RD7vzlxIfLMDV1Z6aNBZo-YWIkXQ=\">próximo evento aws curitiba</a>\n",
              "  </div>\n",
              "</div>\n"
            ]
          },
          "metadata": {}
        }
      ]
    },
    {
      "cell_type": "code",
      "source": [
        "# Instalar Framework de agentes do Google\n",
        "!pip install -q google-adk==1.0.0"
      ],
      "metadata": {
        "id": "a1eRPalxEnj7",
        "colab": {
          "base_uri": "https://localhost:8080/"
        },
        "outputId": "7be08d3c-cf65-494f-ceb0-18c92adf90d5"
      },
      "execution_count": null,
      "outputs": [
        {
          "output_type": "stream",
          "name": "stdout",
          "text": [
            "\u001b[2K   \u001b[90m━━━━━━━━━━━━━━━━━━━━━━━━━━━━━━━━━━━━━━━━\u001b[0m \u001b[32m1.2/1.2 MB\u001b[0m \u001b[31m16.1 MB/s\u001b[0m eta \u001b[36m0:00:00\u001b[0m\n",
            "\u001b[2K   \u001b[90m━━━━━━━━━━━━━━━━━━━━━━━━━━━━━━━━━━━━━━━━\u001b[0m \u001b[32m240.0/240.0 kB\u001b[0m \u001b[31m15.8 MB/s\u001b[0m eta \u001b[36m0:00:00\u001b[0m\n",
            "\u001b[2K   \u001b[90m━━━━━━━━━━━━━━━━━━━━━━━━━━━━━━━━━━━━━━━━\u001b[0m \u001b[32m95.2/95.2 kB\u001b[0m \u001b[31m6.2 MB/s\u001b[0m eta \u001b[36m0:00:00\u001b[0m\n",
            "\u001b[2K   \u001b[90m━━━━━━━━━━━━━━━━━━━━━━━━━━━━━━━━━━━━━━━━\u001b[0m \u001b[32m217.1/217.1 kB\u001b[0m \u001b[31m9.9 MB/s\u001b[0m eta \u001b[36m0:00:00\u001b[0m\n",
            "\u001b[2K   \u001b[90m━━━━━━━━━━━━━━━━━━━━━━━━━━━━━━━━━━━━━━━━\u001b[0m \u001b[32m334.1/334.1 kB\u001b[0m \u001b[31m18.5 MB/s\u001b[0m eta \u001b[36m0:00:00\u001b[0m\n",
            "\u001b[2K   \u001b[90m━━━━━━━━━━━━━━━━━━━━━━━━━━━━━━━━━━━━━━━━\u001b[0m \u001b[32m130.3/130.3 kB\u001b[0m \u001b[31m8.5 MB/s\u001b[0m eta \u001b[36m0:00:00\u001b[0m\n",
            "\u001b[2K   \u001b[90m━━━━━━━━━━━━━━━━━━━━━━━━━━━━━━━━━━━━━━━━\u001b[0m \u001b[32m65.8/65.8 kB\u001b[0m \u001b[31m4.1 MB/s\u001b[0m eta \u001b[36m0:00:00\u001b[0m\n",
            "\u001b[2K   \u001b[90m━━━━━━━━━━━━━━━━━━━━━━━━━━━━━━━━━━━━━━━━\u001b[0m \u001b[32m119.0/119.0 kB\u001b[0m \u001b[31m7.6 MB/s\u001b[0m eta \u001b[36m0:00:00\u001b[0m\n",
            "\u001b[2K   \u001b[90m━━━━━━━━━━━━━━━━━━━━━━━━━━━━━━━━━━━━━━━━\u001b[0m \u001b[32m194.9/194.9 kB\u001b[0m \u001b[31m9.8 MB/s\u001b[0m eta \u001b[36m0:00:00\u001b[0m\n",
            "\u001b[2K   \u001b[90m━━━━━━━━━━━━━━━━━━━━━━━━━━━━━━━━━━━━━━━━\u001b[0m \u001b[32m62.5/62.5 kB\u001b[0m \u001b[31m4.6 MB/s\u001b[0m eta \u001b[36m0:00:00\u001b[0m\n",
            "\u001b[2K   \u001b[90m━━━━━━━━━━━━━━━━━━━━━━━━━━━━━━━━━━━━━━━━\u001b[0m \u001b[32m103.3/103.3 kB\u001b[0m \u001b[31m7.1 MB/s\u001b[0m eta \u001b[36m0:00:00\u001b[0m\n",
            "\u001b[2K   \u001b[90m━━━━━━━━━━━━━━━━━━━━━━━━━━━━━━━━━━━━━━━━\u001b[0m \u001b[32m44.4/44.4 kB\u001b[0m \u001b[31m2.7 MB/s\u001b[0m eta \u001b[36m0:00:00\u001b[0m\n",
            "\u001b[2K   \u001b[90m━━━━━━━━━━━━━━━━━━━━━━━━━━━━━━━━━━━━━━━━\u001b[0m \u001b[32m72.0/72.0 kB\u001b[0m \u001b[31m4.9 MB/s\u001b[0m eta \u001b[36m0:00:00\u001b[0m\n",
            "\u001b[?25h"
          ]
        }
      ]
    },
    {
      "cell_type": "code",
      "execution_count": null,
      "metadata": {
        "id": "aePV2bdfDeoW"
      },
      "outputs": [],
      "source": [
        "from google.adk.agents import Agent\n",
        "from google.adk.runners import Runner\n",
        "from google.adk.sessions import InMemorySessionService\n",
        "from google.adk.tools import google_search\n",
        "from google.genai import types  # Para criar conteúdos (Content e Part)\n",
        "from datetime import date\n",
        "import textwrap # Para formatar melhor a saída de texto\n",
        "from IPython.display import display, Markdown # Para exibir texto formatado no Colab\n",
        "import requests # Para fazer requisições HTTP\n",
        "import warnings\n",
        "\n",
        "warnings.filterwarnings(\"ignore\")"
      ]
    },
    {
      "cell_type": "code",
      "source": [
        "import uuid\n",
        "\n",
        "async def call_agent(agent: Agent, message_text: str) -> str:\n",
        "    session_service = InMemorySessionService()\n",
        "\n",
        "    # Gere um session_id único\n",
        "    session_id = str(uuid.uuid4())\n",
        "\n",
        "    # Cria a sessão com esse ID\n",
        "    await session_service.create_session(\n",
        "        app_name=agent.name,\n",
        "        user_id=\"user1\",\n",
        "        session_id=session_id\n",
        "    )\n",
        "\n",
        "    runner = Runner(agent=agent, app_name=agent.name, session_service=session_service)\n",
        "\n",
        "    content = types.Content(role=\"user\", parts=[types.Part(text=message_text)])\n",
        "\n",
        "    final_response = \"\"\n",
        "\n",
        "    async for event in runner.run_async(user_id=\"user1\", new_message=content, session_id=session_id):\n",
        "        if event.is_final_response():\n",
        "            for part in event.content.parts:\n",
        "                if part.text is not None:\n",
        "                    final_response += part.text + \"\\n\"\n",
        "\n",
        "    return final_response"
      ],
      "metadata": {
        "id": "_xP4lWhsS5ko"
      },
      "execution_count": null,
      "outputs": []
    },
    {
      "cell_type": "code",
      "source": [
        "# Função auxiliar para exibir texto formatado em Markdown no Colab\n",
        "def to_markdown(text):\n",
        "  text = text.replace('•', '  *')\n",
        "  return Markdown(textwrap.indent(text, '> ', predicate=lambda _: True))"
      ],
      "metadata": {
        "id": "8dosiodaxfFR"
      },
      "execution_count": null,
      "outputs": []
    },
    {
      "cell_type": "code",
      "source": [
        "##########################################\n",
        "# --- Agente 1: Buscador de Notícias --- #\n",
        "##########################################\n",
        "def agente_buscador(topico, data_de_hoje):\n",
        "\n",
        "    buscador = Agent(\n",
        "        name=\"agente_buscador\",\n",
        "        model=\"gemini-2.0-flash\",\n",
        "        instruction=\"\"\"\n",
        "        Você é um assistente de pesquisa. A sua tarefa é usar a ferramenta de busca do google (google_search)\n",
        "        para recuperar as últimas notícias de lançamentos muito relevantes sobre o tópico abaixo.\n",
        "        Foque em no máximo 5 lançamentos relevantes, com base na quantidade e entusiasmo das notícias sobre ele.\n",
        "        Se um tema tiver poucas notícias ou reações entusiasmadas, é possível que ele não seja tão relevante assim\n",
        "        e pode ser substituído por outro que tenha mais.\n",
        "        Esses lançamentos relevantes devem ser atuais, de no máximo um mês antes da data de hoje.\n",
        "        \"\"\",\n",
        "        description=\"Agente que busca informações no Google\",\n",
        "        tools=[google_search]\n",
        "    )\n",
        "\n",
        "    entrada_do_agente_buscador = f\"Tópico: {topico}\\nData de hoje: {data_de_hoje}\"\n",
        "\n",
        "    lancamentos = call_agent(buscador, entrada_do_agente_buscador)\n",
        "    return lancamentos"
      ],
      "metadata": {
        "id": "o8bqIfi_DyH8"
      },
      "execution_count": null,
      "outputs": []
    },
    {
      "cell_type": "code",
      "source": [
        "################################################\n",
        "# --- Agente 2: Planejador de posts --- #\n",
        "################################################\n",
        "def agente_planejador(topico, lancamentos_buscados):\n",
        "    planejador = Agent(\n",
        "        name=\"agente_planejador\",\n",
        "        model=\"gemini-2.0-flash\",\n",
        "        # Inserir as instruções do Agente Planejador #################################################\n",
        "        instruction=\"\"\"\n",
        "        Você é um planejador de conteúdo, especialista em redes sociais. Com base na lista de\n",
        "        lançamentos mais recentes e relevantes buscador, você deve:\n",
        "        usar a ferramenta de busca do Google (google_search) para criar um plano sobre\n",
        "        quais são os pontos mais relevantes que poderíamos abordar em um post sobre\n",
        "        cada um deles. Você também pode usar o (google_search) para encontrar mais\n",
        "        informações sobre os temas e aprofundar.\n",
        "        Ao final, você irá escolher o tema mais relevante entre eles com base nas suas pesquisas\n",
        "        e retornar esse tema, seus pontos mais relevantes, e um plano com os assuntos\n",
        "        a serem abordados no post que será escrito posteriormente.\n",
        "        \"\"\",\n",
        "        description=\"Agente que planeja posts\",\n",
        "        tools=[google_search]\n",
        "    )\n",
        "\n",
        "    entrada_do_agente_planejador = f\"Tópico:{topico}\\nLançamentos buscados: {lancamentos_buscados}\"\n",
        "    # Executa o agente\n",
        "    plano_do_post = call_agent(planejador, entrada_do_agente_planejador)\n",
        "    return plano_do_post"
      ],
      "metadata": {
        "id": "y3VO1uo5_ghO"
      },
      "execution_count": null,
      "outputs": []
    },
    {
      "cell_type": "code",
      "source": [
        "######################################\n",
        "# --- Agente 3: Redator do Post --- #\n",
        "######################################\n",
        "def agente_redator(topico, plano_de_post):\n",
        "    redator = Agent(\n",
        "        name=\"agente_redator\",\n",
        "        model=\"gemini-2.0-flash\",\n",
        "        instruction=\"\"\"\n",
        "            Você é um Redator Criativo especializado em criar posts virais para redes sociais.\n",
        "            Utilize o tema fornecido no plano de post e os pontos mais relevantes fornecidos e, com base nisso,\n",
        "            escreva um rascunho de post para Linkedin sobre o tema indicado.\n",
        "            O post deve ser engajador, informativo, com linguagem simples e incluir 2 a 4 hashtags no final.\n",
        "            \"\"\",\n",
        "        description=\"Agente redator de posts engajadores para Linkedin\"\n",
        "    )\n",
        "    entrada_do_agente_redator = f\"Tópico: {topico}\\nPlano de post: {plano_de_post}\"\n",
        "    # Executa o agente\n",
        "    rascunho = call_agent(redator, entrada_do_agente_redator)\n",
        "    return rascunho"
      ],
      "metadata": {
        "id": "uOqlg2TRLVh1"
      },
      "execution_count": null,
      "outputs": []
    },
    {
      "cell_type": "code",
      "source": [
        "##########################################\n",
        "# --- Agente 4: Revisor de Qualidade --- #\n",
        "##########################################\n",
        "def agente_revisor(topico, rascunho_gerado):\n",
        "    revisor = Agent(\n",
        "        name=\"agente_revisor\",\n",
        "        model=\"gemini-2.0-flash\",\n",
        "        instruction=\"\"\"\n",
        "            Você é um Editor e Revisor de Conteúdo meticuloso, especializado em posts para redes sociais, com foco no Linkedin.\n",
        "            Por ter um público jovem, entre 18 e 30 anos, use um tom de escrita adequado.\n",
        "            Revise o rascunho de post de Linkedin abaixo sobre o tópico indicado, verificando clareza, concisão, correção e tom.\n",
        "            Se o rascunho estiver bom, responda apenas 'O rascunho está ótimo e pronto para publicar!'.\n",
        "            Caso haja problemas, aponte-os e sugira melhorias.\n",
        "            \"\"\",\n",
        "        description=\"Agente revisor de post para redes sociais.\"\n",
        "    )\n",
        "    entrada_do_agente_revisor = f\"Tópico: {topico}\\nRascunho: {rascunho_gerado}\"\n",
        "    # Executa o agente\n",
        "    texto_revisado = call_agent(revisor, entrada_do_agente_revisor)\n",
        "    return texto_revisado"
      ],
      "metadata": {
        "id": "_aTb1SdkLeT6"
      },
      "execution_count": null,
      "outputs": []
    },
    {
      "cell_type": "code",
      "source": [
        "data_de_hoje = date.today().strftime(\"%d/%m/%Y\")\n",
        "\n",
        "async def run_agent_system(topico):\n",
        "    print(\"🚀 Iniciando o Sistema de Criação de Posts para Linkedin com 4 Agentes 🚀\")\n",
        "\n",
        "    if not topico:\n",
        "        print(\"Você esqueceu de digitar o tópico!\")\n",
        "    else:\n",
        "        print(f\"Maravilha! Vamos então criar o post sobre novidades em {topico}\")\n",
        "\n",
        "        # Chame as funções dos agentes com await\n",
        "        # Adiciona session_service como argumento para agente_buscador\n",
        "        lancamentos_buscados = await agente_buscador(topico, data_de_hoje)\n",
        "        print(\"\\n--- 📝 Resultado do Agente 1 (Buscador) ---\\n\")\n",
        "        display(to_markdown(lancamentos_buscados))\n",
        "        print(\"--------------------------------------------------------------\")\n",
        "\n",
        "        plano_de_post = await agente_planejador(topico, lancamentos_buscados)\n",
        "        print(\"\\n--- 📝 Resultado do Agente 2 (Planejador) ---\\n\")\n",
        "        display(to_markdown(plano_de_post))\n",
        "        print(\"--------------------------------------------------------------\")\n",
        "\n",
        "        rascunho_de_post = await agente_redator(topico, plano_de_post)\n",
        "        print(\"\\n--- 📝 Resultado do Agente 3 (Redator) ---\\n\")\n",
        "        display(to_markdown(rascunho_de_post))\n",
        "        print(\"--------------------------------------------------------------\")\n",
        "\n",
        "        post_final = await agente_revisor(topico, rascunho_de_post)\n",
        "        print(\"\\n--- 📝 Resultado do Agente 4 (Revisor) ---\\n\")\n",
        "        display(to_markdown(post_final))\n",
        "        print(\"--------------------------------------------------------------\")\n",
        "\n",
        "# --- Obter o Tópico do Usuário ---\n",
        "topico = input(\"❓ Por favor, digite o TÓPICO sobre o qual você quer criar o post de tendências: \")\n",
        "\n",
        "# Execute a função assíncrona principal diretamente com await em ambientes como Colab/Jupyter\n",
        "await run_agent_system(topico)"
      ],
      "metadata": {
        "colab": {
          "base_uri": "https://localhost:8080/",
          "height": 1000
        },
        "id": "6xzI6LKzxxnN",
        "outputId": "5845d491-a7c2-4f61-ecd6-bde191e8d659"
      },
      "execution_count": null,
      "outputs": [
        {
          "output_type": "stream",
          "name": "stdout",
          "text": [
            "❓ Por favor, digite o TÓPICO sobre o qual você quer criar o post de tendências: AWS\n",
            "🚀 Iniciando o Sistema de Criação de Posts para Linkedin com 4 Agentes 🚀\n",
            "Maravilha! Vamos então criar o post sobre novidades em AWS\n",
            "\n",
            "--- 📝 Resultado do Agente 1 (Buscador) ---\n",
            "\n"
          ]
        },
        {
          "output_type": "display_data",
          "data": {
            "text/plain": [
              "<IPython.core.display.Markdown object>"
            ],
            "text/markdown": "> Para encontrar os lançamentos mais relevantes da AWS no último mês, vou realizar algumas pesquisas no Google.\n> \n> \n> Com base nas minhas pesquisas, aqui estão alguns dos lançamentos e anúncios mais relevantes da AWS no último mês (Maio de 2025):\n> \n> 1.  **Investimento Massivo no Chile:** A AWS anunciou um investimento de US$4 bilhões em 15 anos para a construção de três data centers em Santiago, Chile. Esse investimento visa fornecer serviços de nuvem não apenas para o mercado doméstico, mas para toda a América Latina. A nova região da AWS na América do Sul (Chile) terá três zonas de disponibilidade, juntando-se às 114 zonas e 36 regiões que a AWS já opera globalmente.\n> 2.  **Amazon ECS com Rollbacks Simplificados:** O Amazon Elastic Container Service (ECS) introduziu um novo recurso que permite reverter facilmente um serviço do Amazon ECS para um estado seguro anterior em caso de falha na implantação. Isso simplifica a recuperação de falhas e aumenta a confiabilidade das implantações.\n> 3.  **Amazon Aurora com Suporte para PostgreSQL 17:** O Amazon Aurora agora suporta a versão principal 17 do PostgreSQL (17.4). Esta versão inclui melhorias e correções de bugs da comunidade PostgreSQL, garantindo que os usuários do Aurora possam aproveitar as últimas atualizações e recursos do PostgreSQL.\n> 4.  **AWS e IBM Colaboram em IA:** A AWS e a IBM continuam a colaborar para oferecer novos recursos de IA generativa. A integração planejada entre o Amazon Q Index e o IBM watsonx Orchestrate visa facilitar a criação, implantação e gerenciamento de agentes e assistentes de IA. O IBM watsonx Agents e watsonx Orchestrate estão agora disponíveis como SaaS e no AWS Marketplace em várias regiões.\n> 5.  **Amazon RDS for Oracle:** O Amazon RDS for Oracle agora suporta o gerenciamento de credenciais com o AWS Secrets Manager para bancos de dados que adotam a arquitetura multitenant da Oracle. Isso permite que os clientes automatizem a rotação de senhas, utilizem o AWS Identity and Access Management (IAM) para controle de acesso e criptografem credenciais usando o AWS Key Management Service (KMS).\n> 6.  **Amazon EC2 High Memory Instances:** As instâncias Amazon EC2 High Memory U-1 com 18TB de memória (u-18tb1.112xlarge) estão agora disponíveis na região US East (Ohio). Os clientes podem começar a usar essas novas instâncias com opções de compra On Demand e Savings Plan.\n> 7.  **AWS Entity Resolution:** O AWS Entity Resolution está agora disponível nas regiões AWS Canada Central e Africa Cape Town, oferecendo às organizações a capacidade de corresponder e vincular registros relacionados armazenados em várias aplicações.\n> 8.  **Novidades de Segurança e Governança:** As atualizações incluem o IAM Access Analyzer com política gerada automaticamente para S3, Centralized Logging na Control Tower, suporte ao Verified Access no CloudTrail Lake e melhorias no Config Rules.\n> \n"
          },
          "metadata": {}
        },
        {
          "output_type": "stream",
          "name": "stdout",
          "text": [
            "--------------------------------------------------------------\n",
            "\n",
            "--- 📝 Resultado do Agente 2 (Planejador) ---\n",
            "\n"
          ]
        },
        {
          "output_type": "display_data",
          "data": {
            "text/plain": [
              "<IPython.core.display.Markdown object>"
            ],
            "text/markdown": "> Okay, com base nos lançamentos da AWS de Maio de 2025, vou criar um plano de conteúdo para redes sociais, focando em cada um dos tópicos e identificando os pontos mais relevantes para um post.\n> \n> **1. Investimento Massivo no Chile:**\n> \n> *   **Pontos Relevantes:**\n>     *   Investimento de US$4 bilhões em data centers.\n>     *   Construção de três data centers em Santiago.\n>     *   Expansão da infraestrutura de nuvem na América Latina.\n>     *   Geração de empregos e desenvolvimento tecnológico na região.\n>     *   Aumento da capacidade de serviços de nuvem para empresas locais e internacionais.\n> \n> *   **Plano de Post:**\n>     *   Manchete chamativa: \"AWS Investe US$4 Bilhões no Chile: Um Marco para a Nuvem na América Latina!\"\n>     *   Explicar o tamanho do investimento e o número de data centers.\n>     *   Detalhar os benefícios para empresas no Chile e na América Latina.\n>     *   Mencionar as novas zonas de disponibilidade e sua importância.\n>     *   Incluir uma imagem/vídeo mostrando o impacto do investimento (ex: mapa da região, visualização de data center).\n>     *   Call to action: \"Saiba como sua empresa pode se beneficiar da infraestrutura AWS na América Latina.\"\n> \n> \n> **2. Amazon ECS com Rollbacks Simplificados:**\n> \n> *   **Pontos Relevantes:**\n>     *   Novo recurso de rollback para serviços do Amazon ECS.\n>     *   Recuperação mais rápida de falhas em implantações.\n>     *   Aumento da confiabilidade e estabilidade dos serviços.\n>     *   Redução do tempo de inatividade em caso de problemas.\n> \n> *   **Plano de Post:**\n>     *   Título: \"Amazon ECS Facilitando a Vida dos Desenvolvedores: Rollbacks Simplificados!\"\n>     *   Explicar o que é o Amazon ECS e sua importância.\n>     *   Detalhar o novo recurso de rollback e como ele funciona.\n>     *   Exemplos de cenários onde o rollback é útil.\n>     *   Comparar com a complexidade de rollbacks manuais.\n>     *   Incluir um gif/vídeo demonstrando o processo de rollback.\n>     *   Call to action: \"Teste o novo recurso de rollback no seu próximo deployment no ECS!\"\n> \n> **3. Amazon Aurora com Suporte para PostgreSQL 17:**\n> \n> *   **Pontos Relevantes:**\n>     *   Aurora agora suporta PostgreSQL 17.4.\n>     *   Acesso às últimas melhorias e correções do PostgreSQL.\n>     *   Desempenho aprimorado e novas funcionalidades.\n>     *   Compatibilidade com aplicações existentes.\n> \n> *   **Plano de Post:**\n>     *   Título: \"Amazon Aurora + PostgreSQL 17: A Combinação Perfeita para seu Banco de Dados!\"\n>     *   Explicar o que é o Amazon Aurora e seus benefícios.\n>     *   Destacar as principais novidades do PostgreSQL 17.4.\n>     *   Focar em como essas novidades beneficiam os usuários do Aurora.\n>     *   Facilidade de upgrade para a nova versão.\n>     *   Incluir um gráfico comparando o desempenho do Aurora com e sem PostgreSQL 17.\n>     *   Call to action: \"Atualize seu banco de dados Aurora para o PostgreSQL 17 e aproveite os novos recursos!\"\n> \n> **4. AWS e IBM Colaboram em IA:**\n> \n> *   **Pontos Relevantes:**\n>     *   Parceria entre AWS e IBM para oferecer soluções de IA generativa.\n>     *   Integração entre Amazon Q Index e IBM watsonx Orchestrate.\n>     *   Facilidade na criação, implantação e gerenciamento de agentes e assistentes de IA.\n>     *   Disponibilidade do IBM watsonx Agents e Orchestrate no AWS Marketplace.\n> \n> *   **Plano de Post:**\n>     *   Título: \"AWS e IBM Unem Forças para Revolucionar a IA Generativa!\"\n>     *   Explicar a importância da IA generativa e suas aplicações.\n>     *   Detalhar a parceria entre AWS e IBM e seus objetivos.\n>     *   Explicar como a integração entre Amazon Q Index e IBM watsonx Orchestrate funciona.\n>     *   Benefícios para desenvolvedores e empresas que usam IA.\n>     *   Incluir um diagrama da arquitetura da solução integrada.\n>     *   Call to action: \"Descubra como a IA generativa da AWS e IBM pode transformar seus negócios!\"\n> \n> \n> **5. Amazon RDS for Oracle:**\n> \n> *   **Pontos Relevantes:**\n>     *   Suporte ao gerenciamento de credenciais com o AWS Secrets Manager.\n>     *   Automatização da rotação de senhas.\n>     *   Uso do AWS IAM para controle de acesso.\n>     *   Criptografia de credenciais com o AWS KMS.\n>     *   Maior segurança e conformidade para bancos de dados Oracle.\n> \n> *   **Plano de Post:**\n>     *   Título: \"Amazon RDS for Oracle Mais Seguro do que Nunca com AWS Secrets Manager!\"\n>     *   Explicar a importância da segurança em bancos de dados.\n>     *   Detalhar como o AWS Secrets Manager protege as credenciais do Oracle.\n>     *   Benefícios da automatização da rotação de senhas.\n>     *   Cumprimento de normas de segurança e conformidade.\n>     *   Incluir um diagrama mostrando a integração entre RDS, Secrets Manager, IAM e KMS.\n>     *   Call to action: \"Proteja seus bancos de dados Oracle com o AWS Secrets Manager e o Amazon RDS!\"\n> \n> **6. Amazon EC2 High Memory Instances:**\n> \n> *   **Pontos Relevantes:**\n>     *   Novas instâncias EC2 High Memory U-1 com 18TB de memória.\n>     *   Disponibilidade na região US East (Ohio).\n>     *   Ideal para cargas de trabalho que exigem alta capacidade de memória.\n>     *   Opções de compra On Demand e Savings Plan.\n> \n> *   **Plano de Post:**\n>     *   Título: \"Amazon EC2 High Memory: Potência Máxima para Suas Aplicações!\"\n>     *   Explicar o que são as instâncias EC2 High Memory e para que servem.\n>     *   Detalhar as especificações das novas instâncias U-1 com 18TB de memória.\n>     *   Casos de uso ideais: SAP HANA, bancos de dados in-memory, etc.\n>     *   Opções de compra e como economizar com Savings Plan.\n>     *   Incluir um gráfico comparando o desempenho das instâncias High Memory com outras instâncias EC2.\n>     *   Call to action: \"Escalone suas aplicações com as instâncias EC2 High Memory e veja a diferença!\"\n> \n> **7. AWS Entity Resolution:**\n> \n> *   **Pontos Relevantes:**\n>     *   Disponibilidade nas regiões AWS Canada Central e Africa Cape Town.\n>     *   Capacidade de corresponder e vincular registros relacionados em várias aplicações.\n>     *   Melhora a qualidade dos dados e a visão unificada dos clientes.\n> \n> *   **Plano de Post:**\n>     *   Título: \"AWS Entity Resolution Chega a Novas Regiões: Unifique Seus Dados e Conheça Seus Clientes!\"\n>     *   Explicar o que é o AWS Entity Resolution e como ele funciona.\n>     *   Benefícios de unificar dados de diferentes fontes.\n>     *   Casos de uso: CRM, marketing, análise de dados, etc.\n>     *   Disponibilidade em novas regiões e o que isso significa para os clientes locais.\n>     *   Incluir um exemplo de como o Entity Resolution pode identificar um cliente único em diferentes sistemas.\n>     *   Call to action: \"Melhore a qualidade dos seus dados com o AWS Entity Resolution!\"\n> \n> **8. Novidades de Segurança e Governança:**\n> \n> *   **Pontos Relevantes:**\n>     *   IAM Access Analyzer com política gerada automaticamente para S3.\n>     *   Centralized Logging na Control Tower.\n>     *   Suporte ao Verified Access no CloudTrail Lake.\n>     *   Melhorias no Config Rules.\n> \n> *   **Plano de Post:**\n>     *   Título: \"AWS Reforça a Segurança e Governança na Nuvem!\"\n>     *   Resumo das principais novidades em segurança e governança.\n>     *   Detalhar cada uma das atualizações:\n>         *   IAM Access Analyzer: Facilidade na criação de políticas S3.\n>         *   Centralized Logging: Simplificação do registro de logs na Control Tower.\n>         *   Verified Access no CloudTrail Lake: Visibilidade e controle de acesso a aplicações.\n>         *   Config Rules: Melhorias na configuração de regras de conformidade.\n>     *   Benefícios para a segurança e conformidade das aplicações AWS.\n>     *   Incluir um gráfico mostrando a arquitetura de segurança da AWS.\n>     *   Call to action: \"Mantenha sua infraestrutura AWS segura e em conformidade com as últimas atualizações!\"\n> \n> **Escolha do Tópico Mais Relevante:**\n> \n> Considerando o impacto geral e o interesse potencial do público, o tópico mais relevante para um post seria:\n> \n> **Investimento Massivo no Chile.**\n> \n> *   **Justificativa:**\n>     *   O investimento de US$4 bilhões é uma notícia de grande impacto, mostrando o compromisso da AWS com a América Latina.\n>     *   A construção de data centers gera empregos e desenvolvimento tecnológico na região.\n>     *   A expansão da infraestrutura de nuvem beneficia empresas locais e internacionais.\n>     *   A notícia tem apelo para um público amplo, incluindo empresas, desenvolvedores, investidores e interessados em tecnologia.\n> \n> **Plano Detalhado para o Post Sobre o Investimento no Chile:**\n> \n> *   **Título:** \"AWS Investe US$4 Bilhões no Chile: Um Marco para a Nuvem na América Latina!\"\n> *   **Assuntos a Serem Abordados:**\n>     1.  **Introdução:**\n>         *   Apresentar o anúncio do investimento de US$4 bilhões da AWS no Chile.\n>         *   Destacar a importância desse investimento para a região da América Latina.\n>     2.  **Detalhes do Investimento:**\n>         *   Número de data centers a serem construídos (três em Santiago).\n>         *   Prazo do investimento (15 anos).\n>         *   Número de zonas de disponibilidade (3).\n>     3.  **Benefícios para a América Latina:**\n>         *   Melhoria da infraestrutura de nuvem na região.\n>         *   Redução da latência para aplicações e serviços.\n>         *   Acesso a tecnologias avançadas como IA e machine learning.\n>     4.  **Impacto Econômico e Social:**\n>         *   Geração de empregos diretos e indiretos.\n>         *   Desenvolvimento de habilidades digitais na região.\n>         *   Contribuição para o crescimento econômico do Chile e da América Latina.\n>     5.  **Sustentabilidade:**\n>         *   Como os data centers serão resfriados (predominantemente por ar).\n>         *   Compromisso da AWS com a sustentabilidade e a meta de zerar emissões líquidas de carbono até 2040.\n>     6.  **Declarações de Executivos:**\n>         *   Incluir citações de executivos da AWS sobre o investimento e seus benefícios.\n>     7.  **Call to Action:**\n>         *   Incentivar empresas e desenvolvedores a explorar os serviços da AWS na América Latina.\n>         *   Oferecer recursos adicionais para saber mais sobre o investimento e as oportunidades.\n> *   **Elementos Visuais:**\n>     *   Imagem de um mapa da América Latina destacando o Chile.\n>     *   Visualização de um data center da AWS.\n>     *   Gráfico mostrando o crescimento da infraestrutura de nuvem na região.\n> *   **Hashtags:**\n>     *   \\#AWS \\#CloudComputing \\#AmericaLatina \\#Chile \\#DataCenter \\#Investimento \\#Tecnologia \\#Inovação\n> \n> Este plano visa criar um post informativo, interessante e relevante para o público-alvo, destacando os principais benefícios do investimento da AWS no Chile e seu impacto na região.\n> \n"
          },
          "metadata": {}
        },
        {
          "output_type": "stream",
          "name": "stdout",
          "text": [
            "--------------------------------------------------------------\n",
            "\n",
            "--- 📝 Resultado do Agente 3 (Redator) ---\n",
            "\n"
          ]
        },
        {
          "output_type": "display_data",
          "data": {
            "text/plain": [
              "<IPython.core.display.Markdown object>"
            ],
            "text/markdown": "> ## AWS turbina a nuvem na América Latina com investimento de 4 bilhões de dólares no Chile! 🚀🇨🇱\n> \n> Preparem-se! A AWS acaba de anunciar um aporte massivo de **US$4 bilhões** para impulsionar a infraestrutura de nuvem no Chile, com a construção de **3 novos data centers** de última geração em Santiago. 🤯\n> \n> Essa super novidade não só demonstra o compromisso da AWS com a nossa região, como também trará inúmeros benefícios para empresas e desenvolvedores:\n> \n> *   **Menor latência:** Diga adeus aos atrasos!\n> *   **Mais inovação:** Acesso facilitado a tecnologias de ponta, como IA e Machine Learning.\n> *   **Geração de empregos:** Oportunidades para profissionais de tecnologia na América Latina.\n> *   **Crescimento econômico:** Impulso para o desenvolvimento do Chile e da região.\n> \n> E o melhor de tudo: os data centers serão construídos com foco na **sustentabilidade**, utilizando tecnologias de resfriamento eficientes e alinhadas com o compromisso da AWS de zerar as emissões de carbono até 2040. ♻️\n> \n> Quer saber como a sua empresa pode se beneficiar dessa mega infraestrutura? 🤔\n> \n> Acesse o link na bio e descubra um universo de possibilidades! 😉\n> \n> \\#AWS \\#CloudComputing \\#AmericaLatina \\#Inovação\n> \n"
          },
          "metadata": {}
        },
        {
          "output_type": "stream",
          "name": "stdout",
          "text": [
            "--------------------------------------------------------------\n",
            "\n",
            "--- 📝 Resultado do Agente 4 (Revisor) ---\n",
            "\n"
          ]
        },
        {
          "output_type": "display_data",
          "data": {
            "text/plain": [
              "<IPython.core.display.Markdown object>"
            ],
            "text/markdown": "> O rascunho está ótimo e pronto para publicar!\n"
          },
          "metadata": {}
        },
        {
          "output_type": "stream",
          "name": "stdout",
          "text": [
            "--------------------------------------------------------------\n"
          ]
        }
      ]
    }
  ]
}